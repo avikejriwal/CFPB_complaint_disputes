{
 "cells": [
  {
   "cell_type": "code",
   "execution_count": 1,
   "metadata": {
    "collapsed": true
   },
   "outputs": [],
   "source": [
    "import pandas as pd\n",
    "import numpy as np\n",
    "%matplotlib inline\n",
    "import matplotlib.pyplot as plt\n",
    "import seaborn as sns\n",
    "\n",
    "from scipy.signal import savgol_filter\n",
    "\n",
    "from sklearn.model_selection import train_test_split, cross_val_score\n",
    "from sklearn.metrics import accuracy_score, precision_score, recall_score, roc_curve, roc_auc_score, confusion_matrix\n",
    "from sklearn.utils import shuffle\n",
    "from sklearn.pipeline import make_pipeline\n",
    "from sklearn.preprocessing import StandardScaler\n",
    "\n",
    "from sklearn.ensemble import RandomForestClassifier, GradientBoostingClassifier, VotingClassifier\n",
    "from sklearn.neural_network import MLPClassifier\n",
    "from sklearn.svm import SVC\n",
    "from sklearn.linear_model import LogisticRegression\n",
    "from sklearn.naive_bayes import GaussianNB, BernoulliNB\n",
    "\n",
    "from sshtunnel import SSHTunnelForwarder\n",
    "from sqlalchemy import create_engine\n",
    "\n",
    "from datetime import datetime\n",
    "from dateutil.relativedelta import relativedelta"
   ]
  },
  {
   "cell_type": "markdown",
   "metadata": {},
   "source": [
    "# Database access\n",
    "\n",
    "Connect to the database hosting my data  \n",
    "\n",
    "Data from:  \n",
    "https://www.consumerfinance.gov/data-research/consumer-complaints/  \n",
    "https://www.consumerfinance.gov/data-research/credit-card-data/"
   ]
  },
  {
   "cell_type": "code",
   "execution_count": 2,
   "metadata": {},
   "outputs": [
    {
     "name": "stdout",
     "output_type": "stream",
     "text": [
      "True True 50753\n"
     ]
    }
   ],
   "source": [
    "# SSH config shortcut\n",
    "SSH_CONFIG_SHORTCUT = 'myaws'\n",
    "\n",
    "server = SSHTunnelForwarder(\n",
    "    SSH_CONFIG_SHORTCUT,\n",
    "    ssh_config_file='~/.ssh/config',\n",
    "    remote_bind_address=('localhost', 5432)\n",
    ")\n",
    "\n",
    "server.start()\n",
    "print(server.is_active, server.is_alive, server.local_bind_port)"
   ]
  },
  {
   "cell_type": "code",
   "execution_count": 3,
   "metadata": {
    "collapsed": true
   },
   "outputs": [],
   "source": [
    "# Postgres username, password, and database name\n",
    "POSTGRES_IP_ADDRESS = 'localhost' ## This is localhost because SSH tunnel is active\n",
    "POSTGRES_PORT = str(server.local_bind_port)\n",
    "POSTGRES_USERNAME = '*******'     ## CHANGE THIS TO YOUR POSTGRES USERNAME\n",
    "POSTGRES_PASSWORD = '*******' ## CHANGE THIS TO YOUR POSTGRES PASSWORD\n",
    "POSTGRES_DBNAME = 'cfpb'\n",
    "\n",
    "# A long string that contains the necessary Postgres login information\n",
    "postgres_str = ('postgresql://{username}:{password}@{ipaddress}:{port}/{dbname}'\n",
    "                .format(username=POSTGRES_USERNAME, \n",
    "                        password=POSTGRES_PASSWORD,\n",
    "                        ipaddress=POSTGRES_IP_ADDRESS,\n",
    "                        port=POSTGRES_PORT,\n",
    "                        dbname=POSTGRES_DBNAME))\n",
    "\n",
    "# Create the connection\n",
    "cnx = create_engine(postgres_str)"
   ]
  },
  {
   "cell_type": "markdown",
   "metadata": {},
   "source": [
    "# Test Queries"
   ]
  },
  {
   "cell_type": "code",
   "execution_count": 6,
   "metadata": {
    "collapsed": true
   },
   "outputs": [],
   "source": [
    "pd.read_sql_query('SELECT * FROM cc_plans LIMIT 5', cnx);"
   ]
  },
  {
   "cell_type": "code",
   "execution_count": 5,
   "metadata": {
    "collapsed": true
   },
   "outputs": [],
   "source": [
    "pd.read_sql_query('''SELECT \"Agreement_Date\", date_part('year', \"Agreement_Date\") as yr,\\\n",
    "                    AVG(\"APR\") as mean_apr, \\\n",
    "                    AVG(\"Grace_Period\") as mean_grace,\n",
    "                    AVG(\"Annual_Fee\") as ann_fee\n",
    "                FROM cc_plans\\\n",
    "                GROUP BY \"Agreement_Date\"\\\n",
    "                ORDER BY \"Agreement_Date\" \\\n",
    "                DESC LIMIT 7;''', cnx);"
   ]
  },
  {
   "cell_type": "code",
   "execution_count": null,
   "metadata": {
    "collapsed": true
   },
   "outputs": [],
   "source": [
    "#Testing queries\n",
    "pd.read_sql_query('''SELECT DISTINCT ON (id) * \n",
    "                        FROM complaints\\\n",
    "                        INNER JOIN \n",
    "                            (SELECT \"Agreement_Date\", \n",
    "                                AVG(\"APR\") as mean_apr, \n",
    "                                AVG(\"Grace_Period\") as mean_grace,\n",
    "                                AVG(\"Annual_Fee\") as ann_fee\n",
    "                            FROM cc_plans\\\n",
    "                            GROUP BY \"Agreement_Date\"\\\n",
    "                            ORDER BY \"Agreement_Date\"\\\n",
    "                            DESC LIMIT 20) as tbl2\\\n",
    "                        ON tbl2.\"Agreement_Date\" <= complaints.date_received \n",
    "                    ORDER BY id DESC\n",
    "                    LIMIT 7;''', cnx);"
   ]
  },
  {
   "cell_type": "code",
   "execution_count": null,
   "metadata": {
    "collapsed": true
   },
   "outputs": [],
   "source": [
    "#Version 1\n",
    "df = pd.read_sql_query('''SELECT * FROM complaints''', cnx)"
   ]
  },
  {
   "cell_type": "code",
   "execution_count": null,
   "metadata": {
    "collapsed": true
   },
   "outputs": [],
   "source": [
    "#Version 2\n",
    "df = pd.read_sql_query('''SELECT * FROM complaints\\\n",
    "                        INNER JOIN \n",
    "                            (SELECT date_part('year', \"Agreement_Date\") as yr, \n",
    "                                    AVG(\"APR\") as mean_apr, \n",
    "                                    AVG(\"Grace_Period\") as mean_grace,\n",
    "                                    AVG(\"Annual_Fee\") as ann_fee\n",
    "                                FROM cc_plans\\\n",
    "                                GROUP BY yr\\\n",
    "                                ORDER BY yr \\\n",
    "                                DESC LIMIT 7) as tbl2\\\n",
    "                        ON tbl2.yr = date_part('year', complaints.date_received);''', cnx)"
   ]
  },
  {
   "cell_type": "code",
   "execution_count": null,
   "metadata": {
    "collapsed": true
   },
   "outputs": [],
   "source": [
    "#Version 3\n",
    "df = pd.read_sql_query('''SELECT DISTINCT ON (id) * \n",
    "                        FROM complaints\\\n",
    "                        INNER JOIN \n",
    "                            (SELECT \"Agreement_Date\", \n",
    "                                AVG(\"APR\") as mean_apr, \n",
    "                                AVG(\"Grace_Period\") as mean_grace,\n",
    "                                AVG(\"Annual_Fee\") as ann_fee\n",
    "                            FROM cc_plans\\\n",
    "                            GROUP BY \"Agreement_Date\"\\\n",
    "                            ORDER BY \"Agreement_Date\"\\\n",
    "                            DESC LIMIT 20) as tbl2\\\n",
    "                        ON tbl2.\"Agreement_Date\" <= complaints.date_received \n",
    "                    WHERE date_part('year', date_received) > 2016\n",
    "                    ORDER BY id DESC;''', cnx)"
   ]
  },
  {
   "cell_type": "markdown",
   "metadata": {
    "collapsed": true
   },
   "source": [
    "# Consolidate the loading, cleaning and feature engineering"
   ]
  },
  {
   "cell_type": "code",
   "execution_count": 4,
   "metadata": {
    "collapsed": true
   },
   "outputs": [],
   "source": [
    "def load_data(cnx):\n",
    "    print('loading')\n",
    "    return pd.read_sql_query('''SELECT DISTINCT ON (id) * \n",
    "                        FROM complaints\n",
    "                        INNER JOIN \n",
    "                            (SELECT \"Agreement_Date\", \n",
    "                                AVG(\"APR\") as mean_apr, \n",
    "                                AVG(\"Grace_Period\") as mean_grace,\n",
    "                                AVG(\"Annual_Fee\") as ann_fee\n",
    "                            FROM cc_plans\n",
    "                            GROUP BY \"Agreement_Date\"\n",
    "                            ORDER BY \"Agreement_Date\"\n",
    "                            DESC LIMIT 20) as tbl2\n",
    "                        ON tbl2.\"Agreement_Date\" <= complaints.date_received \n",
    "                    ORDER BY id DESC;''', cnx)"
   ]
  },
  {
   "cell_type": "code",
   "execution_count": 5,
   "metadata": {
    "collapsed": true
   },
   "outputs": [],
   "source": [
    "def clean_data(df):\n",
    "    print('cleaning:')\n",
    "    #encode disputed as binary\n",
    "    df['disputed'].replace({'No': 0, \"Yes\": 1}, inplace=True)\n",
    "    df['timely'].replace({'No': 0, \"Yes\": 1}, inplace=True)\n",
    "    \n",
    "    #impute missing values with 0 (assume no escalation)\n",
    "    df['disputed'].fillna(0, inplace=True)\n",
    "    df['disputed'].replace('N/A', 0, inplace=True)\n",
    "\n",
    "    #FEATURE: parse the tags into separate binary variables\n",
    "    df['tags'].fillna('', inplace=True)\n",
    "    df['older'] = df['tags'].apply(lambda x: 'older' in x.lower())\n",
    "    df['service_member'] = df['tags'].apply(lambda x: 'service' in x.lower())\n",
    "\n",
    "    #FEATURE: did the complaint have a narrative?\n",
    "    df['narrative'].replace(np.nan, '',inplace=True)\n",
    "    df['has_narr'] = df['narrative'].apply(lambda x: len(x) > 0)\n",
    "    df['narr_len'] = df['narrative'].apply(lambda x: len(x.split(' ')))\n",
    "\n",
    "    #FEATURE: how long did it take for the business to get the complaint?\n",
    "    df['date_difference'] = pd.to_numeric(df['date_sent'] - df['date_received'])/86400/10**9\n",
    "    \n",
    "    df['date_received'] = pd.to_datetime(df['date_received'])\n",
    "    df['weekday'] = df['date_received'].apply(lambda x: x.weekday())\n",
    "    \n",
    "    #FEATURE: consolidate issue columns into more general categories based on keywords\n",
    "    df['short_issue'] = None\n",
    "\n",
    "    keywords = ['sold', 'wrong', 'disclos', 'reward', 'money', 'statement', 'process', 'transfer',\\\n",
    "                'transaction', 'identity', 'report', 'appl', 'card', 'advertising',\\\n",
    "               'account', 'lender', 'fee', 'information', 'pay', 'customer', 'problem', 'other', 'credit']\n",
    "\n",
    "    for word in keywords:\n",
    "        df.loc[df['issue'].apply(lambda x: word in x.lower()), 'short_issue'] = word\n",
    "\n",
    "    legal_words = ['action','fraud', 'improper', 'dispute', 'privacy', 'arbitration']\n",
    "    bank_words = ['deposit', 'cash', 'check', 'bank', 'exchange']\n",
    "    debt_words = ['debt', 'collection', 'bankrupt', 'apr', 'plan']\n",
    "    loan_words = ['mortgage', 'loan']\n",
    "    comm_words = ['communication']\n",
    "\n",
    "    df.loc[df['issue'].apply(lambda x: any(word in x.lower() for word in legal_words)), 'short_issue'] = 'legal'\n",
    "    df.loc[df['issue'].apply(lambda x: any(word in x.lower() for word in bank_words)), 'short_issue'] = 'bank'\n",
    "    df.loc[df['issue'].apply(lambda x: any(word in x.lower() for word in debt_words)), 'short_issue'] = 'debt'\n",
    "    df.loc[df['issue'].apply(lambda x: any(word in x.lower() for word in loan_words)), 'short_issue'] = 'loan'\n",
    "    df.loc[df['issue'].apply(lambda x: any(word in x.lower() for word in comm_words)), 'short_issue'] = 'communication'\n",
    "    \n",
    "    #FEATURE: Consolidate subissues\n",
    "    df['short_subissue'] = None\n",
    "    shortList = list(df.groupby('subissue')['disputed'].mean().apply(lambda x: x != 0).index)\n",
    "    df['short_subissue'] = df['subissue'].apply(lambda x: x in shortList)\n",
    "    \n",
    "    print('done')\n",
    "    return df\n"
   ]
  },
  {
   "cell_type": "code",
   "execution_count": 6,
   "metadata": {
    "collapsed": true
   },
   "outputs": [],
   "source": [
    "#downsample the dataset to balance the classes\n",
    "def down_sample(df):\n",
    "    pos_ex = df[df.disputed==1]\n",
    "    sample_size = pos_ex.shape[0]\n",
    "    neg_ex = df.loc[np.random.choice(df[df.disputed == 0].index, sample_size, replace=False)]\n",
    "\n",
    "    df_downsample = pos_ex.append(neg_ex)\n",
    "    return df_downsample"
   ]
  },
  {
   "cell_type": "code",
   "execution_count": 7,
   "metadata": {},
   "outputs": [
    {
     "name": "stdout",
     "output_type": "stream",
     "text": [
      "loading\n",
      "cleaning:\n",
      "done\n"
     ]
    }
   ],
   "source": [
    "df = clean_data(load_data(cnx))"
   ]
  },
  {
   "cell_type": "markdown",
   "metadata": {},
   "source": [
    "# Data Exploration"
   ]
  },
  {
   "cell_type": "code",
   "execution_count": 9,
   "metadata": {},
   "outputs": [
    {
     "data": {
      "text/plain": [
       "(815290, 30)"
      ]
     },
     "execution_count": 9,
     "metadata": {},
     "output_type": "execute_result"
    }
   ],
   "source": [
    "df.shape"
   ]
  },
  {
   "cell_type": "code",
   "execution_count": null,
   "metadata": {
    "collapsed": true
   },
   "outputs": [],
   "source": [
    "df.head()"
   ]
  },
  {
   "cell_type": "code",
   "execution_count": 260,
   "metadata": {},
   "outputs": [
    {
     "data": {
      "text/plain": [
       "0.18199413705552625"
      ]
     },
     "execution_count": 260,
     "metadata": {},
     "output_type": "execute_result"
    }
   ],
   "source": [
    "#Overall dispute rate\n",
    "df['disputed'].mean()"
   ]
  },
  {
   "cell_type": "code",
   "execution_count": 41,
   "metadata": {},
   "outputs": [
    {
     "data": {
      "text/plain": [
       "product\n",
       "Debt collection            105448\n",
       "Mortgage                   101191\n",
       "Credit reporting            94929\n",
       "Bank account or service     45944\n",
       "Credit card                 45498\n",
       "Student loan                24736\n",
       "Consumer Loan               21044\n",
       "Name: disputed, dtype: int64"
      ]
     },
     "execution_count": 41,
     "metadata": {},
     "output_type": "execute_result"
    }
   ],
   "source": [
    "#products with the most complaints\n",
    "df[df['date_received'].dt.year>=2015].groupby('product')['disputed'].count().sort_values(ascending=False).head(7)"
   ]
  },
  {
   "cell_type": "code",
   "execution_count": 42,
   "metadata": {},
   "outputs": [
    {
     "data": {
      "text/plain": [
       "issue\n",
       "Incorrect information on credit report      70328\n",
       "Cont'd attempts collect debt not owed       40282\n",
       "Loan modification,collection,foreclosure    38910\n",
       "Loan servicing, payments, escrow account    38268\n",
       "Disclosure verification of debt             22177\n",
       "Account opening, closing, or management     20864\n",
       "Dealing with my lender or servicer          15290\n",
       "Name: disputed, dtype: int64"
      ]
     },
     "execution_count": 42,
     "metadata": {},
     "output_type": "execute_result"
    }
   ],
   "source": [
    "#issues with the most complaints\n",
    "df[df['date_received'].dt.year>=2015].groupby('issue')['disputed'].count().sort_values(ascending=False).head(7)"
   ]
  },
  {
   "cell_type": "code",
   "execution_count": 29,
   "metadata": {},
   "outputs": [
    {
     "data": {
      "text/plain": [
       "product\n",
       "Virtual currency           0.470588\n",
       "Consumer Loan              0.205664\n",
       "Credit card                0.204295\n",
       "Mortgage                   0.201658\n",
       "Other financial service    0.188901\n",
       "Bank account or service    0.175104\n",
       "Student loan               0.162314\n",
       "Name: disputed, dtype: float64"
      ]
     },
     "execution_count": 29,
     "metadata": {},
     "output_type": "execute_result"
    }
   ],
   "source": [
    "#contentious products since 2015\n",
    "df[df['date_received'].dt.year>=2015].groupby('product')['disputed'].mean().sort_values(ascending=False).head(7)"
   ]
  },
  {
   "cell_type": "code",
   "execution_count": 31,
   "metadata": {},
   "outputs": [
    {
     "data": {
      "text/plain": [
       "issue\n",
       "Lender damaged or destroyed property    0.500000\n",
       "Lender sold the property                0.500000\n",
       "Cash advance                            0.288462\n",
       "Rewards                                 0.272825\n",
       "Settlement process and costs            0.269319\n",
       "Credit line increase/decrease           0.262729\n",
       "Lost or stolen check                    0.261905\n",
       "Name: disputed, dtype: float64"
      ]
     },
     "execution_count": 31,
     "metadata": {},
     "output_type": "execute_result"
    }
   ],
   "source": [
    "#contentious issues since 2015\n",
    "df[df['date_received'].dt.year>=2015].groupby('issue')['disputed'].mean().sort_values(ascending=False).head(7)"
   ]
  },
  {
   "cell_type": "code",
   "execution_count": 34,
   "metadata": {
    "scrolled": true
   },
   "outputs": [
    {
     "data": {
      "text/plain": [
       "product\n",
       "Virtual currency           0.470588\n",
       "Consumer Loan              0.205664\n",
       "Credit card                0.204295\n",
       "Mortgage                   0.201658\n",
       "Other financial service    0.188901\n",
       "Bank account or service    0.175104\n",
       "Student loan               0.162314\n",
       "Debt collection            0.158713\n",
       "Credit reporting           0.153367\n",
       "Money transfers            0.150028\n",
       "Name: disputed, dtype: float64"
      ]
     },
     "execution_count": 34,
     "metadata": {},
     "output_type": "execute_result"
    }
   ],
   "source": [
    "#get average dispute rates by category\n",
    "df.groupby(['product'])['disputed'].mean().sort_values(ascending=False).head(10)"
   ]
  },
  {
   "cell_type": "code",
   "execution_count": 44,
   "metadata": {},
   "outputs": [
    {
     "data": {
      "text/plain": [
       "issue\n",
       "Lender damaged or destroyed property    0.500000\n",
       "Lender sold the property                0.500000\n",
       "Cash advance                            0.288462\n",
       "Rewards                                 0.272825\n",
       "Settlement process and costs            0.269319\n",
       "Credit line increase/decrease           0.262729\n",
       "Lost or stolen check                    0.261905\n",
       "Privacy                                 0.254237\n",
       "Forbearance / Workout plans             0.253807\n",
       "Advertising and marketing               0.246145\n",
       "Name: disputed, dtype: float64"
      ]
     },
     "execution_count": 44,
     "metadata": {},
     "output_type": "execute_result"
    }
   ],
   "source": [
    "#average dispute rate by issue\n",
    "df.groupby('issue')['disputed'].mean().sort_values(ascending=False).head(10)"
   ]
  },
  {
   "cell_type": "code",
   "execution_count": 117,
   "metadata": {},
   "outputs": [
    {
     "data": {
      "text/plain": [
       "<matplotlib.text.Text at 0x270db7e0630>"
      ]
     },
     "execution_count": 117,
     "metadata": {},
     "output_type": "execute_result"
    },
    {
     "data": {
      "image/png": "[encoded data removed]",
      "text/plain": [
       "<matplotlib.figure.Figure at 0x270db861400>"
      ]
     },
     "metadata": {},
     "output_type": "display_data"
    }
   ],
   "source": [
    "#How does the dispute rate vary over time?\n",
    "\n",
    "a = df[df['date_received'].dt.year>=2015].groupby('weekday')['disputed'].count()\n",
    "plt.bar(a.index, a)\n",
    "#plt.plot(a.index, a.shape[0]*[0.2], 'r')\n",
    "plt.xlabel('day')\n",
    "plt.ylabel('number of complaints')\n",
    "plt.xticks(range(7), ('M', 'T', 'W', 'T', 'F', 'S', 'S'));\n",
    "plt.title('Number of complaints by weekday')"
   ]
  },
  {
   "cell_type": "code",
   "execution_count": 112,
   "metadata": {
    "scrolled": true
   },
   "outputs": [
    {
     "data": {
      "text/plain": [
       "<matplotlib.text.Text at 0x270fddc7940>"
      ]
     },
     "execution_count": 112,
     "metadata": {},
     "output_type": "execute_result"
    },
    {
     "data": {
      "image/png": "[encoded data removed]",
      "text/plain": [
       "<matplotlib.figure.Figure at 0x270fd91bf60>"
      ]
     },
     "metadata": {},
     "output_type": "display_data"
    }
   ],
   "source": [
    "#How does the dispute rate vary over time?\n",
    "a = df[df['date_received'].dt.year>=2015].groupby('weekday')['disputed'].mean()\n",
    "plt.bar(a.index, a)\n",
    "plt.xlabel('day')\n",
    "plt.ylabel('dispute rate')\n",
    "plt.xticks(range(7), ('M', 'T', 'W', 'T', 'F', 'S', 'S'));\n",
    "plt.title('Dispute rate by weekday')"
   ]
  },
  {
   "cell_type": "code",
   "execution_count": 19,
   "metadata": {},
   "outputs": [
    {
     "data": {
      "text/plain": [
       "<matplotlib.text.Text at 0x19bc388ebe0>"
      ]
     },
     "execution_count": 19,
     "metadata": {},
     "output_type": "execute_result"
    },
    {
     "data": {
      "image/png": "[encoded data removed]",
      "text/plain": [
       "<matplotlib.figure.Figure at 0x19bc3ca1898>"
      ]
     },
     "metadata": {},
     "output_type": "display_data"
    }
   ],
   "source": [
    "a = df.groupby('date_received')['disputed'].mean()\n",
    "\n",
    "b = savgol_filter(a,31, 3) #Savitzky–Golay filter to clean up the signal a bit\n",
    "plt.plot(a.index, b)\n",
    "#plt.scatter(a.index, a)\n",
    "#plt.plot(a.index, a.shape[0]*[0.2], 'r')\n",
    "plt.xlabel('time')\n",
    "plt.ylabel('dispute frequency')\n",
    "plt.title('CFPB complaint disputes over time')"
   ]
  },
  {
   "cell_type": "markdown",
   "metadata": {},
   "source": [
    "# Train/Test Split\n",
    "\n",
    "Standard train_test split.  Downsample the training data to balance the frequencies of target labels (disputed or not disputed?)\n",
    "\n",
    "No sensitivity to time."
   ]
  },
  {
   "cell_type": "code",
   "execution_count": 106,
   "metadata": {
    "collapsed": true
   },
   "outputs": [],
   "source": [
    "#Clean, train/test split\n",
    "def tt_split(df, date_start, date_end):\n",
    "    df2 = shuffle(df[(df['date_received'] >= date_start)& (df['date_received'] <= date_end)])\n",
    "\n",
    "\n",
    "    cols = ['older', 'narr_len', 'service_member', 'product','timely', 'submitted_via', 'short_issue', 'short_subissue', 'cust_response', 'has_narr', 'date_difference', 'mean_apr', 'mean_grace']\n",
    "\n",
    "    y = df2['disputed']\n",
    "    X = pd.get_dummies(df2[[c for c in cols if c != 'disputed']])\n",
    "    \n",
    "    return train_test_split(X, y, test_size=0.5, random_state=4444)"
   ]
  },
  {
   "cell_type": "code",
   "execution_count": 110,
   "metadata": {
    "collapsed": true
   },
   "outputs": [],
   "source": [
    "start = datetime.strptime('2015-01-01', '%Y-%m-%d')\n",
    "end = datetime.strptime('2017-08-01', '%Y-%m-%d')\n",
    "\n",
    "X_train, X_val, y_train, y_val = tt_split(df, start, end)"
   ]
  },
  {
   "cell_type": "code",
   "execution_count": 111,
   "metadata": {},
   "outputs": [
    {
     "name": "stdout",
     "output_type": "stream",
     "text": [
      "(239559, 64)\n",
      "(239559, 64)\n",
      "0.16441043751226211\n"
     ]
    }
   ],
   "source": [
    "print(X_train.shape)\n",
    "print(X_val.shape)\n",
    "print(y_val.mean())"
   ]
  },
  {
   "cell_type": "markdown",
   "metadata": {},
   "source": [
    "# Moving average train/test split (years)\n",
    "\n",
    "Use data from one year to predict data in another year"
   ]
  },
  {
   "cell_type": "code",
   "execution_count": 120,
   "metadata": {
    "collapsed": true
   },
   "outputs": [],
   "source": [
    "def train_test_split_year(df, years_train, year_test):\n",
    "    #columns used as features in the model\n",
    "    cols = ['older', 'narr_len', 'service_member', 'product','timely', 'submitted_via',\\\n",
    "            'short_issue', 'short_subissue', 'cust_response', 'has_narr', \\\n",
    "            'date_difference', 'mean_apr', 'mean_grace', 'disputed', 'date_received', 'weekday']\n",
    "    \n",
    "    df2 = pd.get_dummies(df[cols])\n",
    "    \n",
    "    train_df = down_sample(df2[df2['date_received'].dt.year.isin(years_train)].drop('date_received', axis=1))\n",
    "    test_df = df2[df['date_received'].dt.year == year_test].drop('date_received', axis=1)\n",
    "    \n",
    "    y_train = train_df['disputed']\n",
    "    X_train = train_df[[c for c in train_df.columns if c != 'disputed']]\n",
    "    \n",
    "    y_val = test_df['disputed']\n",
    "    X_val = test_df[[c for c in test_df.columns if c != 'disputed']]\n",
    "    \n",
    "    return (X_train, X_val, y_train, y_val)"
   ]
  },
  {
   "cell_type": "code",
   "execution_count": 184,
   "metadata": {
    "collapsed": true
   },
   "outputs": [],
   "source": [
    "X_train, X_val, y_train, y_val = train_test_split_year(df, [2012, 2013], 2014)"
   ]
  },
  {
   "cell_type": "code",
   "execution_count": 245,
   "metadata": {},
   "outputs": [
    {
     "data": {
      "text/plain": [
       "Timestamp('2017-07-12 00:00:00')"
      ]
     },
     "execution_count": 245,
     "metadata": {},
     "output_type": "execute_result"
    }
   ],
   "source": [
    "latest_date = df['date_received'].max()\n",
    "cutoff = latest_date - relativedelta(days=7)\n",
    "cutoff"
   ]
  },
  {
   "cell_type": "markdown",
   "metadata": {},
   "source": [
    "# Moving Average (days)\n",
    "\n",
    "Use data from a specific time interval.  Test data is the last N days in the interval, training data is everything before that.  \n",
    "\n",
    "This was the train-test-split used in the final model"
   ]
  },
  {
   "cell_type": "code",
   "execution_count": 8,
   "metadata": {
    "collapsed": true
   },
   "outputs": [],
   "source": [
    "def train_test_split_window(df, date_start, date_end, days):\n",
    "    cols = ['older', 'narr_len', 'service_member', 'product','timely', 'submitted_via',\\\n",
    "            'short_issue', 'short_subissue', 'cust_response', 'has_narr', \\\n",
    "            'date_difference', 'mean_apr', 'mean_grace', 'disputed', 'date_received', 'weekday']\n",
    "    \n",
    "    df2 = pd.get_dummies(df[cols])\n",
    "    df2 = df2[(df2['date_received'] >= date_start) & (df2['date_received'] <= date_end)]\n",
    "    \n",
    "    latest_date = df2['date_received'].max()\n",
    "    cutoff = latest_date - relativedelta(days=days)\n",
    "    \n",
    "    train_df = down_sample(df2[df2['date_received'] <= cutoff].drop('date_received', axis=1))\n",
    "    test_df = df2[df2['date_received'] > cutoff].drop('date_received', axis=1)\n",
    "    \n",
    "    y_train = train_df['disputed']\n",
    "    X_train = train_df[[c for c in train_df.columns if c != 'disputed']]\n",
    "    \n",
    "    y_val = test_df['disputed']\n",
    "    X_val = test_df[[c for c in test_df.columns if c != 'disputed']]\n",
    "    \n",
    "    return (X_train, X_val, y_train, y_val)"
   ]
  },
  {
   "cell_type": "code",
   "execution_count": 9,
   "metadata": {
    "collapsed": true
   },
   "outputs": [],
   "source": [
    "start = datetime.strptime('2015-01-01', '%Y-%m-%d')\n",
    "end = start + relativedelta(years=2, days=7)\n",
    "\n",
    "X_train, X_val, y_train, y_val = train_test_split_window(df, start, end, 7)"
   ]
  },
  {
   "cell_type": "code",
   "execution_count": 10,
   "metadata": {},
   "outputs": [
    {
     "name": "stdout",
     "output_type": "stream",
     "text": [
      "(138180, 67)\n",
      "(3556, 67)\n",
      "0.1889763779527559\n"
     ]
    }
   ],
   "source": [
    "print(X_train.shape)\n",
    "print(X_val.shape)\n",
    "print(y_val.mean())"
   ]
  },
  {
   "cell_type": "markdown",
   "metadata": {},
   "source": [
    "# Model testing\n",
    "\n",
    "Gradient Boosting had the most consistent performance\n",
    "\n",
    "Random Forest had a tendency to overfit"
   ]
  },
  {
   "cell_type": "code",
   "execution_count": 14,
   "metadata": {
    "scrolled": false
   },
   "outputs": [
    {
     "name": "stdout",
     "output_type": "stream",
     "text": [
      "Training Gradient Boosting:\n",
      "      Iter       Train Loss   Remaining Time \n",
      "         1           1.3773           39.44s\n",
      "         2           1.3700           41.49s\n",
      "         3           1.3640           40.16s\n",
      "         4           1.3591           40.70s\n",
      "         5           1.3551           40.49s\n",
      "         6           1.3517           40.68s\n",
      "         7           1.3489           41.39s\n",
      "         8           1.3466           41.98s\n",
      "         9           1.3445           41.46s\n",
      "        10           1.3427           41.71s\n",
      "        20           1.3315           41.61s\n",
      "        30           1.3260           36.08s\n",
      "        40           1.3229           31.56s\n",
      "        50           1.3210           28.21s\n",
      "        60           1.3195           25.33s\n",
      "        70           1.3184           22.25s\n",
      "        80           1.3175           19.26s\n",
      "        90           1.3168           16.45s\n",
      "       100           1.3161           13.55s\n",
      "done\n",
      "Training Random Forest:\n",
      "done\n",
      "Training Naive Bayes:\n",
      "done\n"
     ]
    }
   ],
   "source": [
    "models = [GradientBoostingClassifier(n_estimators=150, verbose=1),\\\n",
    "          RandomForestClassifier(n_jobs=-1, n_estimators=50, max_depth=9, criterion ='entropy'), BernoulliNB()]\n",
    "labels = ['Gradient Boosting', 'Random Forest', 'Naive Bayes']\n",
    "\n",
    "#models = [RandomForestClassifier(n_jobs=-1, n_estimators=50, max_depth=9, criterion ='entropy')]\n",
    "#labels = ['Random Forest']\n",
    "\n",
    "trained = []\n",
    "for model, label in zip(models,labels):\n",
    "    print('Training', label + ':')\n",
    "    pipe = make_pipeline(StandardScaler(), model)\n",
    "    pipe.fit(X_train, y_train)\n",
    "    trained.append(pipe)\n",
    "    print('done')"
   ]
  },
  {
   "cell_type": "code",
   "execution_count": 15,
   "metadata": {},
   "outputs": [
    {
     "name": "stdout",
     "output_type": "stream",
     "text": [
      "training\n",
      "done\n"
     ]
    }
   ],
   "source": [
    "#Voting Classifier\n",
    "\n",
    "models = [GradientBoostingClassifier(n_estimators=150), \\\n",
    "          RandomForestClassifier(n_estimators=50, max_depth=13),\\\n",
    "           BernoulliNB()]\n",
    "labels2 = ['GB', 'RF', 'Naive Bayes']\n",
    "\n",
    "voter = VotingClassifier(list(zip(labels, models)), n_jobs=-1, voting ='soft', weights = [1,1, 1])\n",
    "vote_pipe = make_pipeline(StandardScaler(), voter)\n",
    "print('training')\n",
    "vote_pipe.fit(X_train, y_train)\n",
    "print('done')\n",
    "\n",
    "trained.append(vote_pipe)\n",
    "labels.append('Voting Classifier')\n"
   ]
  },
  {
   "cell_type": "code",
   "execution_count": 16,
   "metadata": {
    "scrolled": false
   },
   "outputs": [
    {
     "name": "stdout",
     "output_type": "stream",
     "text": [
      "Evaluating: Gradient Boosting \n",
      "\n",
      "Accuracy: 0.569178852643\n",
      "Scope Reduction: 0.474128233971\n",
      "Train AUC 0.644960466567\n",
      "Test AUC: 0.63890135848\n",
      "Train Precision: 0.590113079155\n",
      "Test Precision: 0.244958481613\n",
      "Train Recall: 0.682819510783\n",
      "Test Recall: 0.614583333333\n",
      "\n",
      "Evaluating: Random Forest \n",
      "\n",
      "Accuracy: 0.52727784027\n",
      "Scope Reduction: 0.532902137233\n",
      "Train AUC 0.647297009145\n",
      "Test AUC: 0.63294768757\n",
      "Train Precision: 0.587527872208\n",
      "Test Precision: 0.233773087071\n",
      "Train Recall: 0.69791576205\n",
      "Test Recall: 0.659226190476\n",
      "\n",
      "Evaluating: Naive Bayes \n",
      "\n",
      "Accuracy: 0.580708661417\n",
      "Scope Reduction: 0.460348706412\n",
      "Train AUC 0.623047305876\n",
      "Test AUC: 0.625147313173\n",
      "Train Precision: 0.588876293042\n",
      "Test Precision: 0.249847281613\n",
      "Train Recall: 0.60149080909\n",
      "Test Recall: 0.608630952381\n",
      "\n",
      "Evaluating: Voting Classifier \n",
      "\n",
      "Accuracy: 0.55764904387\n",
      "Scope Reduction: 0.48790776153\n",
      "Train AUC 0.647919705232\n",
      "Test AUC: 0.635573783518\n",
      "Train Precision: 0.598309435179\n",
      "Test Precision: 0.240345821326\n",
      "Train Recall: 0.644405847445\n",
      "Test Recall: 0.620535714286\n",
      "\n"
     ]
    },
    {
     "data": {
      "image/png": "[encoded data removed]",
      "text/plain": [
       "<matplotlib.figure.Figure at 0x19bc3cc3898>"
      ]
     },
     "metadata": {},
     "output_type": "display_data"
    }
   ],
   "source": [
    "#thresh=0.2 => recall ~= 0.995\n",
    "#thresh = 0.23 => recall ~= 0.99\n",
    "thresh = 0.5\n",
    "\n",
    "for mdl, label in zip(trained, labels):\n",
    "    print('Evaluating:', label, '\\n')\n",
    "    y_prob = mdl.predict_proba(X_val)[:,1]\n",
    "    y_pred = [pred >= thresh for pred in y_prob]\n",
    "\n",
    "    y_prob_train = mdl.predict_proba(X_train)[:,1]\n",
    "    y_pred_train = [pred >= thresh for pred in y_prob_train]\n",
    "\n",
    "    print('Accuracy:', accuracy_score(y_val, y_pred))\n",
    "    print('Scope Reduction:', sum(y_pred)/len(y_val))\n",
    "    precision = precision_score(y_val, y_pred)\n",
    "\n",
    "    print('Train AUC', roc_auc_score(y_train, y_prob_train))\n",
    "    print('Test AUC:', roc_auc_score(y_val, y_prob))\n",
    "\n",
    "    print('Train Precision:', precision_score(y_train, y_pred_train))\n",
    "    print('Test Precision:', precision)\n",
    "\n",
    "    print('Train Recall:', recall_score(y_train, y_pred_train))\n",
    "    print('Test Recall:', recall_score(y_val, y_pred))\n",
    "\n",
    "    #conf = confusion_matrix(y_val, y_pred)\n",
    "\n",
    "    fpr, tpr, thresholds = roc_curve(y_val, y_prob)\n",
    "    plt.plot(fpr, tpr, label=label);\n",
    "    print('')\n",
    "    \n",
    "plt.plot([0,1], [0,1], 'k--')\n",
    "plt.xlabel('Fall-out')\n",
    "plt.ylabel('Recall')\n",
    "plt.title('ROC curve')\n",
    "\n",
    "plt.legend();"
   ]
  },
  {
   "cell_type": "code",
   "execution_count": 34,
   "metadata": {},
   "outputs": [
    {
     "data": {
      "text/plain": [
       "[('cust_response_Closed with explanation', 0.14619161284730184),\n",
       " ('narr_len', 0.11444563447576712),\n",
       " ('cust_response_Closed with non-monetary relief', 0.10180356162862163),\n",
       " ('submitted_via_Web', 0.095280806609042423),\n",
       " ('has_narr', 0.052973306477102487),\n",
       " ('date_difference', 0.048756566740415931),\n",
       " ('cust_response_Untimely response', 0.043744291669399048),\n",
       " ('cust_response_Closed with monetary relief', 0.03876764115789319),\n",
       " ('short_subissue', 0.035892101502423987),\n",
       " ('submitted_via_Postal mail', 0.02977644395503844),\n",
       " ('mean_apr', 0.027304114688475309),\n",
       " ('mean_grace', 0.02487604520906915),\n",
       " ('short_issue_credit', 0.022868678235764439),\n",
       " ('submitted_via_Referral', 0.022186573922694578),\n",
       " ('weekday', 0.019890000530380817),\n",
       " ('submitted_via_Phone', 0.016763668619789614),\n",
       " ('product_Mortgage', 0.015714715727025035),\n",
       " ('product_Credit reporting', 0.015440876964521382),\n",
       " ('short_issue_loan', 0.014824769330985614),\n",
       " ('cust_response_Closed', 0.014122169956498625),\n",
       " ('timely', 0.014056203659464847),\n",
       " ('product_Credit card', 0.0096268972641894834),\n",
       " ('short_issue_communication', 0.0096168734558375931),\n",
       " ('product_Debt collection', 0.0079086466435673835),\n",
       " ('older', 0.0052405427326315491),\n",
       " ('service_member', 0.0046794785396345401),\n",
       " ('short_issue_debt', 0.0045811321460235508),\n",
       " ('short_issue_legal', 0.0041720492428544802),\n",
       " ('product_Bank account or service', 0.0037146778062920531),\n",
       " ('short_issue_other', 0.0033467662391056135),\n",
       " ('short_issue_account', 0.0030777200111251567),\n",
       " ('product_Money transfers', 0.0027404111727808928),\n",
       " ('product_Payday loan', 0.0025900797968644957),\n",
       " ('product_Student loan', 0.0021948294598603175),\n",
       " ('product_Consumer Loan', 0.0018454920518986297),\n",
       " ('product_Prepaid card', 0.0017935455990307986),\n",
       " ('submitted_via_Fax', 0.0017198326008638434),\n",
       " ('short_issue_lender', 0.0016695359291212389),\n",
       " ('short_issue_reward', 0.0014718671549379518),\n",
       " ('short_issue_process', 0.0013801025214088009),\n",
       " ('short_issue_fee', 0.0013688534141204347),\n",
       " ('short_issue_statement', 0.0013415805688623667),\n",
       " ('short_issue_bank', 0.001218251083850534),\n",
       " ('short_issue_money', 0.0010859430684022108),\n",
       " ('short_issue_problem', 0.0010012011984580447),\n",
       " ('cust_response_In progress', 0.00090528027729611701),\n",
       " ('short_issue_pay', 0.00078643860176183067),\n",
       " ('product_Other financial service', 0.00069854417960160328),\n",
       " ('short_issue_customer', 0.00062822499936886916),\n",
       " ('short_issue_advertising', 0.00055439377150091418),\n",
       " ('short_issue_card', 0.00038760835749065346),\n",
       " ('short_issue_appl', 0.00033621213735330913),\n",
       " ('short_issue_transfer', 0.00022890686379153577),\n",
       " ('short_issue_disclos', 0.00016917911076060987),\n",
       " ('short_issue_wrong', 9.637248004560371e-05),\n",
       " ('submitted_via_Email', 8.9350984411592542e-05),\n",
       " ('product_Virtual currency', 5.3394627219731249e-05),\n",
       " ('product_Checking or savings account', 0.0),\n",
       " ('product_Credit card or prepaid card', 0.0),\n",
       " ('product_Credit reporting, credit repair services, or other personal consumer reports',\n",
       "  0.0),\n",
       " ('product_Money transfer, virtual currency, or money service', 0.0),\n",
       " ('product_Payday loan, title loan, or personal loan', 0.0),\n",
       " ('product_Vehicle loan or lease', 0.0),\n",
       " ('short_issue_information', 0.0),\n",
       " ('short_issue_sold', 0.0),\n",
       " ('cust_response_Closed with relief', 0.0),\n",
       " ('cust_response_Closed without relief', 0.0)]"
      ]
     },
     "execution_count": 34,
     "metadata": {},
     "output_type": "execute_result"
    }
   ],
   "source": [
    "#feature importances in random forest\n",
    "sorted(list(zip(X_train.columns,trained[1].steps[1][1].feature_importances_)), key = lambda x: x[1], reverse=True)"
   ]
  },
  {
   "cell_type": "code",
   "execution_count": 20,
   "metadata": {
    "collapsed": true
   },
   "outputs": [],
   "source": [
    "server.close()"
   ]
  }
 ],
 "metadata": {
  "kernelspec": {
   "display_name": "Python 3",
   "language": "python",
   "name": "python3"
  },
  "language_info": {
   "codemirror_mode": {
    "name": "ipython",
    "version": 3
   },
   "file_extension": ".py",
   "mimetype": "text/x-python",
   "name": "python",
   "nbconvert_exporter": "python",
   "pygments_lexer": "ipython3",
   "version": "3.6.1"
  }
 },
 "nbformat": 4,
 "nbformat_minor": 2
}
